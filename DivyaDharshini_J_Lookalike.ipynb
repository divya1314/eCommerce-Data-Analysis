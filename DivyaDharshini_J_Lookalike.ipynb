{
  "nbformat": 4,
  "nbformat_minor": 0,
  "metadata": {
    "colab": {
      "provenance": []
    },
    "kernelspec": {
      "name": "python3",
      "display_name": "Python 3"
    },
    "language_info": {
      "name": "python"
    }
  },
  "cells": [
    {
      "cell_type": "code",
      "source": [
        "import pandas as pd\n",
        "import numpy as np\n",
        "from sklearn.metrics.pairwise import cosine_similarity\n",
        "from sklearn.preprocessing import OneHotEncoder, StandardScaler\n",
        "\n",
        "# Load the datasets\n",
        "customers = pd.read_csv(\"/content/Customers.csv\")\n",
        "transactions = pd.read_csv(\"/content/Transactions.csv\")\n",
        "\n",
        "# Merg customer and transaction data\n",
        "merged_data = pd.merge(transactions, customers, on=\"CustomerID\")"
      ],
      "metadata": {
        "id": "xZwssaWIyDes"
      },
      "execution_count": 9,
      "outputs": []
    },
    {
      "cell_type": "markdown",
      "source": [
        "## Feature Engineering"
      ],
      "metadata": {
        "id": "yqu2sFf91ilA"
      }
    },
    {
      "cell_type": "code",
      "source": [
        "# Calculate total spending, number of transactions, and average transaction value for each customer\n",
        "customer_features = merged_data.groupby(\"CustomerID\").agg(\n",
        "    TotalSpending=(\"TotalValue\", \"sum\"),\n",
        "    NumTransactions=(\"TransactionID\", \"count\"),\n",
        "    AvgTransactionValue=(\"TotalValue\", \"mean\")\n",
        ").reset_index()\n",
        "\n",
        "# customer demographics\n",
        "customer_features = pd.merge(customer_features, customers, on=\"CustomerID\")"
      ],
      "metadata": {
        "id": "jsTlgXmayHb_"
      },
      "execution_count": 10,
      "outputs": []
    },
    {
      "cell_type": "code",
      "source": [
        "# Encoding categorical variables (Region)\n",
        "encoder = OneHotEncoder()\n",
        "encoded_regions = encoder.fit_transform(customer_features[[\"Region\"]]).toarray()\n",
        "encoded_regions_df = pd.DataFrame(encoded_regions, columns=encoder.get_feature_names_out([\"Region\"]))\n",
        "\n",
        "# Normalize numerical features\n",
        "scaler = StandardScaler()\n",
        "scaled_features = scaler.fit_transform(customer_features[[\"TotalSpending\", \"NumTransactions\", \"AvgTransactionValue\"]])\n",
        "\n",
        "# Combine all features\n",
        "features = np.hstack([scaled_features, encoded_regions_df])\n",
        "\n",
        "# cosine similarity\n",
        "similarity_matrix = cosine_similarity(features)\n"
      ],
      "metadata": {
        "id": "iX-4YadnyMXb"
      },
      "execution_count": 11,
      "outputs": []
    },
    {
      "cell_type": "code",
      "source": [
        "# Creating a dictionary to store recommendations\n",
        "lookalike_map = {}\n",
        "\n",
        "# Geting top 3 similar customers for each customer in the range C0001 - C0020\n",
        "for i, customer_id in enumerate(customer_features[\"CustomerID\"]):\n",
        "\n",
        "    if customer_id in [f\"C{str(i).zfill(4)}\" for i in range(1, 21)]:\n",
        "\n",
        "        # Geting similarity scores for the current customer\n",
        "        similarity_scores = similarity_matrix[i]\n",
        "\n",
        "        # Exclude the customer itself\n",
        "        similarity_scores[i] = -1\n",
        "\n",
        "        # Geting the indices of the top 3 similar customers\n",
        "        top_3_indices = similarity_scores.argsort()[-3:][::-1]\n",
        "\n",
        "        # Geting the customer IDs and similarity scores of the top 3\n",
        "        top_3_customers = [(customer_features.iloc[idx][\"CustomerID\"], similarity_scores[idx]) for idx in top_3_indices]\n",
        "\n",
        "        # Adding to the lookalike map\n",
        "        lookalike_map[customer_id] = top_3_customers\n",
        "\n",
        "# Converting the map to a DataFrame for saving as CSV\n",
        "lookalike_df = pd.DataFrame.from_dict(lookalike_map, orient=\"index\")\n",
        "lookalike_df = lookalike_df.stack().apply(pd.Series).reset_index()\n",
        "\n",
        "#  Providing 4 column names to match the DataFrame structure\n",
        "lookalike_df.columns = [\"CustomerID\", \"level_1\", \"LookalikeCustomerID\", \"SimilarityScore\"]\n",
        "lookalike_df = lookalike_df.drop(columns=['level_1']) # Assuming 'level_1' is not needed\n",
        "\n",
        "# Save to CSV\n",
        "lookalike_df.to_csv(\"Lookalike.csv\", index=False)\n",
        "\n",
        "print(\"Lookalike model completed. Results saved to Lookalike.csv.\")\n"
      ],
      "metadata": {
        "colab": {
          "base_uri": "https://localhost:8080/",
          "height": 0
        },
        "id": "kB7qjVGEyUrk",
        "outputId": "3e10e47c-3398-422f-b0cd-84333ed1252f"
      },
      "execution_count": 12,
      "outputs": [
        {
          "output_type": "stream",
          "name": "stdout",
          "text": [
            "Lookalike model completed. Results saved to Lookalike.csv.\n"
          ]
        }
      ]
    }
  ]
}